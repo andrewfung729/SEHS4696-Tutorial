{
 "metadata": {
  "kernelspec": {
   "name": "python",
   "display_name": "Python (Pyodide)",
   "language": "python"
  },
  "language_info": {
   "codemirror_mode": {
    "name": "python",
    "version": 3
   },
   "file_extension": ".py",
   "mimetype": "text/x-python",
   "name": "python",
   "nbconvert_exporter": "python",
   "pygments_lexer": "ipython3",
   "version": "3.8"
  },
  "colab": {
   "provenance": []
  }
 },
 "nbformat_minor": 4,
 "nbformat": 4,
 "cells": [
  {
   "cell_type": "markdown",
   "source": [
    "# Classification using K nearest neighbour (KNN) v3\n",
    "\n",
    "### In the cells below, follow the instructions marked with \"-->\".\n",
    "\n",
    "### --> Enter your name here as it is shown on the class register (e.g. CHAN Tai Man John)\n",
    "\n",
    "##### Ref: https://www.kaggle.com/code/zohaib123/telecusts-prediction-k-nearest-neighbors"
   ],
   "metadata": {
    "id": "iLfrjDpBac98"
   }
  },
  {
   "cell_type": "markdown",
   "source": [
    "## 1. About the dataset\n",
    "\n",
    "This dataset contains 1000 customers records and more than ten features. The target field, called custcat, has four possible values that correspond to the four customer groups, as follows:\n",
    "</div>\n",
    "<ol>\n",
    "<li>Basic Service </li>\n",
    "<li>E-Service </li>\n",
    "<li>Plus Service </li>\n",
    "<li>Total Service</li>\n",
    "</ol>\n",
    "\n",
    "<div>\n",
    "Our objective is to the K-nearest-neighbour classifier, to predict the class of unknown cases.\n",
    "</div>\n",
    "    "
   ],
   "metadata": {
    "id": "oSF9pi7qac-A"
   }
  },
  {
   "cell_type": "code",
   "source": [
    "import numpy as np\n",
    "import matplotlib.pyplot as plt\n",
    "import pandas as pd\n",
    "from sklearn import preprocessing\n",
    "%matplotlib inline\n",
    "# --> If you see many warning messages, uncomment the following two lines so that those warnings will be suppressed. \n",
    "# import warnings\n",
    "# warnings.filterwarnings('ignore')"
   ],
   "metadata": {
    "_cell_guid": "c5b0876d-9ba5-47a4-99a7-11475ecf97f5",
    "_uuid": "f9489c5b-3258-4ac2-bb83-2ec7e64c4dcc",
    "id": "EdM6e6mzac-B",
    "trusted": true
   },
   "outputs": [],
   "execution_count": 1
  },
  {
   "cell_type": "markdown",
   "source": [
    "## 2. Load the Data"
   ],
   "metadata": {
    "id": "ZTSHHiZmac-C"
   }
  },
  {
   "cell_type": "code",
   "source": [
    "myDF = pd.read_csv(\"teleCust1000t.csv\")"
   ],
   "metadata": {
    "_cell_guid": "f5861a22-4aec-4336-91a4-a496b459dc47",
    "_uuid": "94eecedf-129f-460f-82c9-42bacf9f6673",
    "id": "NJRV2ReGac-C",
    "trusted": true
   },
   "outputs": [],
   "execution_count": 2
  },
  {
   "cell_type": "markdown",
   "source": [
    "## 3. Examine the data"
   ],
   "metadata": {
    "id": "hiax05vXac-D"
   }
  },
  {
   "cell_type": "code",
   "source": [
    "# The head() method lets you view the first few records of the dataframe. By default, it shows the first 5 records.\n",
    "myDF.head(3)"
   ],
   "metadata": {
    "_cell_guid": "e84ad76c-be22-4156-819d-703c6bb6b051",
    "_uuid": "df892b6b-0b38-4a94-b340-85c7152d2fb4",
    "colab": {
     "base_uri": "https://localhost:8080/",
     "height": 143
    },
    "id": "cEhPK24Cac-D",
    "outputId": "937c9fe2-9169-4ed0-bb43-ecc1f8214c11",
    "scrolled": true,
    "trusted": true
   },
   "outputs": [
    {
     "execution_count": 3,
     "output_type": "execute_result",
     "data": {
      "text/plain": "   region  tenure  age  marital  address  income  ed  employ  retire  gender  \\\n0       2      13   44        1        9    64.0   4       5     0.0       0   \n1       3      11   33        1        7   136.0   5       5     0.0       0   \n2       3      68   52        1       24   116.0   1      29     0.0       1   \n\n   reside  custcat  \n0       2        1  \n1       6        4  \n2       2        3  ",
      "text/html": "<div>\n<style scoped>\n    .dataframe tbody tr th:only-of-type {\n        vertical-align: middle;\n    }\n\n    .dataframe tbody tr th {\n        vertical-align: top;\n    }\n\n    .dataframe thead th {\n        text-align: right;\n    }\n</style>\n<table border=\"1\" class=\"dataframe\">\n  <thead>\n    <tr style=\"text-align: right;\">\n      <th></th>\n      <th>region</th>\n      <th>tenure</th>\n      <th>age</th>\n      <th>marital</th>\n      <th>address</th>\n      <th>income</th>\n      <th>ed</th>\n      <th>employ</th>\n      <th>retire</th>\n      <th>gender</th>\n      <th>reside</th>\n      <th>custcat</th>\n    </tr>\n  </thead>\n  <tbody>\n    <tr>\n      <th>0</th>\n      <td>2</td>\n      <td>13</td>\n      <td>44</td>\n      <td>1</td>\n      <td>9</td>\n      <td>64.0</td>\n      <td>4</td>\n      <td>5</td>\n      <td>0.0</td>\n      <td>0</td>\n      <td>2</td>\n      <td>1</td>\n    </tr>\n    <tr>\n      <th>1</th>\n      <td>3</td>\n      <td>11</td>\n      <td>33</td>\n      <td>1</td>\n      <td>7</td>\n      <td>136.0</td>\n      <td>5</td>\n      <td>5</td>\n      <td>0.0</td>\n      <td>0</td>\n      <td>6</td>\n      <td>4</td>\n    </tr>\n    <tr>\n      <th>2</th>\n      <td>3</td>\n      <td>68</td>\n      <td>52</td>\n      <td>1</td>\n      <td>24</td>\n      <td>116.0</td>\n      <td>1</td>\n      <td>29</td>\n      <td>0.0</td>\n      <td>1</td>\n      <td>2</td>\n      <td>3</td>\n    </tr>\n  </tbody>\n</table>\n</div>"
     },
     "metadata": {}
    }
   ],
   "execution_count": 3
  },
  {
   "cell_type": "code",
   "source": [
    "# You can use a list to extract column(s) from a dataframe\n",
    "myDF[['age','income']].head(3)"
   ],
   "metadata": {
    "colab": {
     "base_uri": "https://localhost:8080/",
     "height": 143
    },
    "id": "B4bm9VBXac-F",
    "outputId": "acb16085-6900-437e-a935-7edadbcf4cd2",
    "trusted": true
   },
   "outputs": [
    {
     "execution_count": 4,
     "output_type": "execute_result",
     "data": {
      "text/plain": "   age  income\n0   44    64.0\n1   33   136.0\n2   52   116.0",
      "text/html": "<div>\n<style scoped>\n    .dataframe tbody tr th:only-of-type {\n        vertical-align: middle;\n    }\n\n    .dataframe tbody tr th {\n        vertical-align: top;\n    }\n\n    .dataframe thead th {\n        text-align: right;\n    }\n</style>\n<table border=\"1\" class=\"dataframe\">\n  <thead>\n    <tr style=\"text-align: right;\">\n      <th></th>\n      <th>age</th>\n      <th>income</th>\n    </tr>\n  </thead>\n  <tbody>\n    <tr>\n      <th>0</th>\n      <td>44</td>\n      <td>64.0</td>\n    </tr>\n    <tr>\n      <th>1</th>\n      <td>33</td>\n      <td>136.0</td>\n    </tr>\n    <tr>\n      <th>2</th>\n      <td>52</td>\n      <td>116.0</td>\n    </tr>\n  </tbody>\n</table>\n</div>"
     },
     "metadata": {}
    }
   ],
   "execution_count": 4
  },
  {
   "cell_type": "markdown",
   "source": [
    "## 4. Create the features matrix"
   ],
   "metadata": {
    "id": "_sWMXu1Bac-H"
   }
  },
  {
   "cell_type": "code",
   "source": [
    "X = myDF[['region', 'tenure', 'age', 'marital', 'address', 'income']].values"
   ],
   "metadata": {
    "colab": {
     "base_uri": "https://localhost:8080/"
    },
    "id": "h9MVatpoac-H",
    "outputId": "a92b76f6-0708-41c6-9636-767ef4183034",
    "trusted": true
   },
   "outputs": [],
   "execution_count": 5
  },
  {
   "cell_type": "markdown",
   "source": [
    "## 5. Create the labels vector"
   ],
   "metadata": {
    "id": "ppVNltuOac-H"
   }
  },
  {
   "cell_type": "code",
   "source": [
    "y = myDF['custcat'].values"
   ],
   "metadata": {
    "colab": {
     "base_uri": "https://localhost:8080/"
    },
    "id": "5p9AKVy8ac-H",
    "outputId": "3f134c07-80e4-4a18-e2df-63bf060e9492",
    "tags": [],
    "trusted": true
   },
   "outputs": [],
   "execution_count": 6
  },
  {
   "cell_type": "markdown",
   "source": [
    "## 6. Feature Scaling"
   ],
   "metadata": {
    "id": "qdGrHorxac-I"
   }
  },
  {
   "cell_type": "code",
   "source": [
    "X = preprocessing.StandardScaler().fit(X).transform(X.astype(float))"
   ],
   "metadata": {
    "id": "qA5hmvmbac-I",
    "tags": [],
    "trusted": true
   },
   "outputs": [],
   "execution_count": 7
  },
  {
   "cell_type": "markdown",
   "source": [
    "## 7. Split into training and testing data"
   ],
   "metadata": {
    "id": "p9GK4EN0ac-I"
   }
  },
  {
   "cell_type": "code",
   "source": [
    "from sklearn.model_selection import train_test_split\n",
    "X_train, X_test, y_train, y_test = train_test_split( X, y, test_size = 0.2, random_state = 4)\n",
    "print('Train set:', X_train.shape, y_train.shape)\n",
    "print('Test set:', X_test.shape, y_test.shape)"
   ],
   "metadata": {
    "colab": {
     "base_uri": "https://localhost:8080/"
    },
    "id": "yMD0VA3sac-I",
    "outputId": "0e6fc520-4aa1-421a-e709-1f90ceabb450",
    "tags": [],
    "trusted": true
   },
   "outputs": [
    {
     "name": "stdout",
     "text": "Train set: (800, 6) (800,)\nTest set: (200, 6) (200,)\n",
     "output_type": "stream"
    }
   ],
   "execution_count": 8
  },
  {
   "cell_type": "markdown",
   "source": [
    "## 8. Create and train the KNN Model"
   ],
   "metadata": {
    "id": "D5kdfw9_ac-J"
   }
  },
  {
   "cell_type": "code",
   "source": [
    "from sklearn.neighbors import KNeighborsClassifier"
   ],
   "metadata": {
    "id": "MI4KSwRWac-J",
    "trusted": true
   },
   "outputs": [],
   "execution_count": 9
  },
  {
   "cell_type": "code",
   "source": [
    "myModel = KNeighborsClassifier(n_neighbors = 4).fit(X_train, y_train)\n",
    "myModel"
   ],
   "metadata": {
    "colab": {
     "base_uri": "https://localhost:8080/",
     "height": 75
    },
    "id": "C_v4cTnuac-J",
    "outputId": "3a189300-a948-441f-f0e5-8c0ba09c0c6c",
    "trusted": true
   },
   "outputs": [
    {
     "execution_count": 10,
     "output_type": "execute_result",
     "data": {
      "text/plain": "KNeighborsClassifier(n_neighbors=4)",
      "text/html": "<style>#sk-container-id-1 {color: black;}#sk-container-id-1 pre{padding: 0;}#sk-container-id-1 div.sk-toggleable {background-color: white;}#sk-container-id-1 label.sk-toggleable__label {cursor: pointer;display: block;width: 100%;margin-bottom: 0;padding: 0.3em;box-sizing: border-box;text-align: center;}#sk-container-id-1 label.sk-toggleable__label-arrow:before {content: \"▸\";float: left;margin-right: 0.25em;color: #696969;}#sk-container-id-1 label.sk-toggleable__label-arrow:hover:before {color: black;}#sk-container-id-1 div.sk-estimator:hover label.sk-toggleable__label-arrow:before {color: black;}#sk-container-id-1 div.sk-toggleable__content {max-height: 0;max-width: 0;overflow: hidden;text-align: left;background-color: #f0f8ff;}#sk-container-id-1 div.sk-toggleable__content pre {margin: 0.2em;color: black;border-radius: 0.25em;background-color: #f0f8ff;}#sk-container-id-1 input.sk-toggleable__control:checked~div.sk-toggleable__content {max-height: 200px;max-width: 100%;overflow: auto;}#sk-container-id-1 input.sk-toggleable__control:checked~label.sk-toggleable__label-arrow:before {content: \"▾\";}#sk-container-id-1 div.sk-estimator input.sk-toggleable__control:checked~label.sk-toggleable__label {background-color: #d4ebff;}#sk-container-id-1 div.sk-label input.sk-toggleable__control:checked~label.sk-toggleable__label {background-color: #d4ebff;}#sk-container-id-1 input.sk-hidden--visually {border: 0;clip: rect(1px 1px 1px 1px);clip: rect(1px, 1px, 1px, 1px);height: 1px;margin: -1px;overflow: hidden;padding: 0;position: absolute;width: 1px;}#sk-container-id-1 div.sk-estimator {font-family: monospace;background-color: #f0f8ff;border: 1px dotted black;border-radius: 0.25em;box-sizing: border-box;margin-bottom: 0.5em;}#sk-container-id-1 div.sk-estimator:hover {background-color: #d4ebff;}#sk-container-id-1 div.sk-parallel-item::after {content: \"\";width: 100%;border-bottom: 1px solid gray;flex-grow: 1;}#sk-container-id-1 div.sk-label:hover label.sk-toggleable__label {background-color: #d4ebff;}#sk-container-id-1 div.sk-serial::before {content: \"\";position: absolute;border-left: 1px solid gray;box-sizing: border-box;top: 0;bottom: 0;left: 50%;z-index: 0;}#sk-container-id-1 div.sk-serial {display: flex;flex-direction: column;align-items: center;background-color: white;padding-right: 0.2em;padding-left: 0.2em;position: relative;}#sk-container-id-1 div.sk-item {position: relative;z-index: 1;}#sk-container-id-1 div.sk-parallel {display: flex;align-items: stretch;justify-content: center;background-color: white;position: relative;}#sk-container-id-1 div.sk-item::before, #sk-container-id-1 div.sk-parallel-item::before {content: \"\";position: absolute;border-left: 1px solid gray;box-sizing: border-box;top: 0;bottom: 0;left: 50%;z-index: -1;}#sk-container-id-1 div.sk-parallel-item {display: flex;flex-direction: column;z-index: 1;position: relative;background-color: white;}#sk-container-id-1 div.sk-parallel-item:first-child::after {align-self: flex-end;width: 50%;}#sk-container-id-1 div.sk-parallel-item:last-child::after {align-self: flex-start;width: 50%;}#sk-container-id-1 div.sk-parallel-item:only-child::after {width: 0;}#sk-container-id-1 div.sk-dashed-wrapped {border: 1px dashed gray;margin: 0 0.4em 0.5em 0.4em;box-sizing: border-box;padding-bottom: 0.4em;background-color: white;}#sk-container-id-1 div.sk-label label {font-family: monospace;font-weight: bold;display: inline-block;line-height: 1.2em;}#sk-container-id-1 div.sk-label-container {text-align: center;}#sk-container-id-1 div.sk-container {/* jupyter's `normalize.less` sets `[hidden] { display: none; }` but bootstrap.min.css set `[hidden] { display: none !important; }` so we also need the `!important` here to be able to override the default hidden behavior on the sphinx rendered scikit-learn.org. See: https://github.com/scikit-learn/scikit-learn/issues/21755 */display: inline-block !important;position: relative;}#sk-container-id-1 div.sk-text-repr-fallback {display: none;}</style><div id=\"sk-container-id-1\" class=\"sk-top-container\"><div class=\"sk-text-repr-fallback\"><pre>KNeighborsClassifier(n_neighbors=4)</pre><b>In a Jupyter environment, please rerun this cell to show the HTML representation or trust the notebook. <br />On GitHub, the HTML representation is unable to render, please try loading this page with nbviewer.org.</b></div><div class=\"sk-container\" hidden><div class=\"sk-item\"><div class=\"sk-estimator sk-toggleable\"><input class=\"sk-toggleable__control sk-hidden--visually\" id=\"sk-estimator-id-1\" type=\"checkbox\" checked><label for=\"sk-estimator-id-1\" class=\"sk-toggleable__label sk-toggleable__label-arrow\">KNeighborsClassifier</label><div class=\"sk-toggleable__content\"><pre>KNeighborsClassifier(n_neighbors=4)</pre></div></div></div></div></div>"
     },
     "metadata": {}
    }
   ],
   "execution_count": 10
  },
  {
   "cell_type": "markdown",
   "source": [
    "## 9. Try the model on the testing data"
   ],
   "metadata": {
    "id": "j86wdnkxac-J"
   }
  },
  {
   "cell_type": "code",
   "source": [
    "yhat = myModel.predict(X_test)"
   ],
   "metadata": {
    "colab": {
     "base_uri": "https://localhost:8080/"
    },
    "id": "DjBAuhQ2ac-J",
    "outputId": "2068e85c-1869-4aa4-e80f-c881bb396da2",
    "trusted": true
   },
   "outputs": [],
   "execution_count": 11
  },
  {
   "cell_type": "code",
   "source": [
    "# Compare the above with the actual y values here\n",
    "yhat[0:5]   # predicted values\n",
    "y[0:5]      # actual values\n",
    "# Only one row is shown. Why?"
   ],
   "metadata": {
    "colab": {
     "base_uri": "https://localhost:8080/"
    },
    "id": "lfC-05RFac-J",
    "outputId": "58dc736d-37ed-4591-af9d-9dcd3c7041d9",
    "trusted": true
   },
   "outputs": [
    {
     "execution_count": 13,
     "output_type": "execute_result",
     "data": {
      "text/plain": "array([1, 4, 3, 1, 3], dtype=int64)"
     },
     "metadata": {}
    }
   ],
   "execution_count": 13
  },
  {
   "cell_type": "markdown",
   "source": [
    "## 10. Try the model on different values of K"
   ],
   "metadata": {
    "id": "y-lYwd5lac-J"
   }
  },
  {
   "cell_type": "code",
   "source": [
    "# --> Modify this cell so that the array mean_acc contains the results of K from 1 to 50.\n",
    "\n",
    "import sklearn.metrics as metrics\n",
    "\n",
    "howManyKs = 15\n",
    "acc = np.zeros((howManyKs-1))\n",
    "\n",
    "for n in range(1, howManyKs):\n",
    "\n",
    "    modelInLoop = KNeighborsClassifier(n_neighbors = n).fit(X_train, y_train)\n",
    "    yhat = modelInLoop.predict(X_test)\n",
    "    acc[n-1] = metrics.accuracy_score(y_test, yhat)\n",
    "\n",
    "print(acc)"
   ],
   "metadata": {
    "colab": {
     "base_uri": "https://localhost:8080/"
    },
    "id": "1BDe-AqHac-J",
    "outputId": "1f9d29e6-644d-49ab-8400-92e30dd13905",
    "trusted": true
   },
   "outputs": [
    {
     "name": "stdout",
     "text": "[0.25  0.28  0.27  0.29  0.325 0.3   0.31  0.325 0.34  0.335 0.345 0.345\n 0.335 0.33 ]\n",
     "output_type": "stream"
    }
   ],
   "execution_count": 19
  },
  {
   "cell_type": "code",
   "source": [
    "plt.plot(range(1, howManyKs), acc, 'g')\n",
    "plt.ylabel('Accuracy')\n",
    "plt.xlabel('Number of Neighbors (K)')\n",
    "plt.tight_layout()\n",
    "plt.show()"
   ],
   "metadata": {
    "colab": {
     "base_uri": "https://localhost:8080/",
     "height": 487
    },
    "id": "Fe2W3ik4ac-K",
    "outputId": "8f88186d-31cf-4744-d2da-ae48b7d8a001",
    "scrolled": true,
    "trusted": true
   },
   "outputs": [
    {
     "output_type": "display_data",
     "data": {
      "text/plain": "<Figure size 640x480 with 1 Axes>",
      "image/png": "[encoded data removed]"
     },
     "metadata": {}
    }
   ],
   "execution_count": 20
  },
  {
   "cell_type": "code",
   "source": [
    "# --> What is the K for the best accuracy now?\n",
    "# --> Answer: (enter your answer here)\n",
    "\n",
    "print(\"The best accuracy was with\", mean_acc.max(), \"with k=\", mean_acc.argmax()+1)"
   ],
   "metadata": {
    "colab": {
     "base_uri": "https://localhost:8080/"
    },
    "id": "EF4nFhdBac-K",
    "outputId": "ec398a61-20ee-4297-fb56-022682a5ef37",
    "trusted": true
   },
   "outputs": [
    {
     "name": "stdout",
     "text": "The best accuracy was with 0.345 with k= 11\n",
     "output_type": "stream"
    }
   ],
   "execution_count": 21
  },
  {
   "cell_type": "markdown",
   "source": [
    "# The End"
   ],
   "metadata": {
    "id": "ekTynAckac-K"
   }
  }
 ]
}
