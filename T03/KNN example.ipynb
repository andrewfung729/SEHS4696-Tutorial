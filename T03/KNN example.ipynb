{
 "cells": [
  {
   "cell_type": "code",
   "execution_count": 2,
   "id": "initial_id",
   "metadata": {
    "collapsed": true,
    "ExecuteTime": {
     "end_time": "2024-02-14T04:51:02.123619Z",
     "start_time": "2024-02-14T04:51:01.227895Z"
    }
   },
   "outputs": [],
   "source": [
    "import numpy as np\n",
    "import matplotlib.pyplot as plt\n",
    "import pandas as pd\n",
    "from sklearn.preprocessing import StandardScaler\n",
    "%matplotlib inline"
   ]
  },
  {
   "cell_type": "markdown",
   "source": [
    "## Load Data"
   ],
   "metadata": {
    "collapsed": false
   },
   "id": "b516278ee10b7b1a"
  },
  {
   "cell_type": "code",
   "outputs": [
    {
     "data": {
      "text/plain": "   region  tenure  age  marital  address  income  ed  employ  retire  gender  \\\n0       2      13   44        1        9    64.0   4       5     0.0       0   \n1       3      11   33        1        7   136.0   5       5     0.0       0   \n2       3      68   52        1       24   116.0   1      29     0.0       1   \n3       2      33   33        0       12    33.0   2       0     0.0       1   \n4       2      23   30        1        9    30.0   1       2     0.0       0   \n\n   reside  custcat  \n0       2        1  \n1       6        4  \n2       2        3  \n3       1        1  \n4       4        3  ",
      "text/html": "<div>\n<style scoped>\n    .dataframe tbody tr th:only-of-type {\n        vertical-align: middle;\n    }\n\n    .dataframe tbody tr th {\n        vertical-align: top;\n    }\n\n    .dataframe thead th {\n        text-align: right;\n    }\n</style>\n<table border=\"1\" class=\"dataframe\">\n  <thead>\n    <tr style=\"text-align: right;\">\n      <th></th>\n      <th>region</th>\n      <th>tenure</th>\n      <th>age</th>\n      <th>marital</th>\n      <th>address</th>\n      <th>income</th>\n      <th>ed</th>\n      <th>employ</th>\n      <th>retire</th>\n      <th>gender</th>\n      <th>reside</th>\n      <th>custcat</th>\n    </tr>\n  </thead>\n  <tbody>\n    <tr>\n      <th>0</th>\n      <td>2</td>\n      <td>13</td>\n      <td>44</td>\n      <td>1</td>\n      <td>9</td>\n      <td>64.0</td>\n      <td>4</td>\n      <td>5</td>\n      <td>0.0</td>\n      <td>0</td>\n      <td>2</td>\n      <td>1</td>\n    </tr>\n    <tr>\n      <th>1</th>\n      <td>3</td>\n      <td>11</td>\n      <td>33</td>\n      <td>1</td>\n      <td>7</td>\n      <td>136.0</td>\n      <td>5</td>\n      <td>5</td>\n      <td>0.0</td>\n      <td>0</td>\n      <td>6</td>\n      <td>4</td>\n    </tr>\n    <tr>\n      <th>2</th>\n      <td>3</td>\n      <td>68</td>\n      <td>52</td>\n      <td>1</td>\n      <td>24</td>\n      <td>116.0</td>\n      <td>1</td>\n      <td>29</td>\n      <td>0.0</td>\n      <td>1</td>\n      <td>2</td>\n      <td>3</td>\n    </tr>\n    <tr>\n      <th>3</th>\n      <td>2</td>\n      <td>33</td>\n      <td>33</td>\n      <td>0</td>\n      <td>12</td>\n      <td>33.0</td>\n      <td>2</td>\n      <td>0</td>\n      <td>0.0</td>\n      <td>1</td>\n      <td>1</td>\n      <td>1</td>\n    </tr>\n    <tr>\n      <th>4</th>\n      <td>2</td>\n      <td>23</td>\n      <td>30</td>\n      <td>1</td>\n      <td>9</td>\n      <td>30.0</td>\n      <td>1</td>\n      <td>2</td>\n      <td>0.0</td>\n      <td>0</td>\n      <td>4</td>\n      <td>3</td>\n    </tr>\n  </tbody>\n</table>\n</div>"
     },
     "execution_count": 3,
     "metadata": {},
     "output_type": "execute_result"
    }
   ],
   "source": [
    "df = pd.read_csv('teleCust1000t.csv')\n",
    "df.head()"
   ],
   "metadata": {
    "collapsed": false,
    "ExecuteTime": {
     "end_time": "2024-02-14T04:51:02.136702Z",
     "start_time": "2024-02-14T04:51:02.124555Z"
    }
   },
   "id": "2b59cbbfae75eb40",
   "execution_count": 3
  },
  {
   "cell_type": "markdown",
   "source": [],
   "metadata": {
    "collapsed": false
   },
   "id": "ee4cb6d61a1cf694"
  },
  {
   "cell_type": "markdown",
   "source": [
    "## Data Visualization and Analysis"
   ],
   "metadata": {
    "collapsed": false
   },
   "id": "a653f09ec617b88"
  },
  {
   "cell_type": "code",
   "outputs": [
    {
     "data": {
      "text/plain": "custcat\n3    281\n1    266\n4    236\n2    217\nName: count, dtype: int64"
     },
     "execution_count": 4,
     "metadata": {},
     "output_type": "execute_result"
    }
   ],
   "source": [
    "df['custcat'].value_counts()"
   ],
   "metadata": {
    "collapsed": false,
    "ExecuteTime": {
     "end_time": "2024-02-14T04:51:02.137712Z",
     "start_time": "2024-02-14T04:51:02.135145Z"
    }
   },
   "id": "fb7879a858f5c54f",
   "execution_count": 4
  },
  {
   "cell_type": "code",
   "outputs": [
    {
     "data": {
      "text/plain": "array([[<Axes: title={'center': 'income'}>]], dtype=object)"
     },
     "execution_count": 5,
     "metadata": {},
     "output_type": "execute_result"
    },
    {
     "data": {
      "text/plain": "<Figure size 640x480 with 1 Axes>",
      "image/png": "[encoded data removed]"
     },
     "metadata": {},
     "output_type": "display_data"
    }
   ],
   "source": [
    "df.hist(column='income', bins=100)"
   ],
   "metadata": {
    "collapsed": false,
    "ExecuteTime": {
     "end_time": "2024-02-14T04:51:02.323733Z",
     "start_time": "2024-02-14T04:51:02.138485Z"
    }
   },
   "id": "58e442fecf17e47d",
   "execution_count": 5
  },
  {
   "cell_type": "code",
   "outputs": [
    {
     "data": {
      "text/plain": "Index(['region', 'tenure', 'age', 'marital', 'address', 'income', 'ed',\n       'employ', 'retire', 'gender', 'reside', 'custcat'],\n      dtype='object')"
     },
     "execution_count": 6,
     "metadata": {},
     "output_type": "execute_result"
    }
   ],
   "source": [
    "df.columns"
   ],
   "metadata": {
    "collapsed": false,
    "ExecuteTime": {
     "end_time": "2024-02-14T04:51:02.332427Z",
     "start_time": "2024-02-14T04:51:02.322699Z"
    }
   },
   "id": "d877ff60c8f1ab0b",
   "execution_count": 6
  },
  {
   "cell_type": "code",
   "outputs": [
    {
     "data": {
      "text/plain": "array([[  2.,  13.,  44.,   1.,   9.,  64.,   4.,   5.,   0.,   0.,   2.],\n       [  3.,  11.,  33.,   1.,   7., 136.,   5.,   5.,   0.,   0.,   6.],\n       [  3.,  68.,  52.,   1.,  24., 116.,   1.,  29.,   0.,   1.,   2.],\n       [  2.,  33.,  33.,   0.,  12.,  33.,   2.,   0.,   0.,   1.,   1.],\n       [  2.,  23.,  30.,   1.,   9.,  30.,   1.,   2.,   0.,   0.,   4.]])"
     },
     "execution_count": 7,
     "metadata": {},
     "output_type": "execute_result"
    }
   ],
   "source": [
    "X = df[['region', 'tenure', 'age', 'marital', 'address', 'income', 'ed', 'employ', 'retire',\n",
    "        'gender', 'reside']].values\n",
    "X[0:5]"
   ],
   "metadata": {
    "collapsed": false,
    "ExecuteTime": {
     "end_time": "2024-02-14T04:51:02.393522Z",
     "start_time": "2024-02-14T04:51:02.336522Z"
    }
   },
   "id": "f77311bd2de5a791",
   "execution_count": 7
  },
  {
   "cell_type": "code",
   "outputs": [
    {
     "data": {
      "text/plain": "array([1, 4, 3, 1, 3])"
     },
     "execution_count": 8,
     "metadata": {},
     "output_type": "execute_result"
    }
   ],
   "source": [
    "y = df['custcat'].values\n",
    "y[0:5]"
   ],
   "metadata": {
    "collapsed": false,
    "ExecuteTime": {
     "end_time": "2024-02-14T04:51:02.394669Z",
     "start_time": "2024-02-14T04:51:02.346645Z"
    }
   },
   "id": "5a8375d0efc492a7",
   "execution_count": 8
  },
  {
   "cell_type": "markdown",
   "source": [
    "## Normalize Data"
   ],
   "metadata": {
    "collapsed": false
   },
   "id": "1cf167cec0353057"
  },
  {
   "cell_type": "code",
   "outputs": [
    {
     "data": {
      "text/plain": "array([[-0.02696767, -1.055125  ,  0.18450456,  1.0100505 , -0.25303431,\n        -0.12650641,  1.0877526 , -0.5941226 , -0.22207644, -1.03459817,\n        -0.23065004],\n       [ 1.19883553, -1.14880563, -0.69181243,  1.0100505 , -0.4514148 ,\n         0.54644972,  1.9062271 , -0.5941226 , -0.22207644, -1.03459817,\n         2.55666158],\n       [ 1.19883553,  1.52109247,  0.82182601,  1.0100505 ,  1.23481934,\n         0.35951747, -1.36767088,  1.78752803, -0.22207644,  0.96655883,\n        -0.23065004],\n       [-0.02696767, -0.11831864, -0.69181243, -0.9900495 ,  0.04453642,\n        -0.41625141, -0.54919639, -1.09029981, -0.22207644,  0.96655883,\n        -0.92747794],\n       [-0.02696767, -0.58672182, -0.93080797,  1.0100505 , -0.25303431,\n        -0.44429125, -1.36767088, -0.89182893, -0.22207644, -1.03459817,\n         1.16300577]])"
     },
     "execution_count": 9,
     "metadata": {},
     "output_type": "execute_result"
    }
   ],
   "source": [
    "X_scaled = StandardScaler().fit_transform(X)\n",
    "X_scaled[0:5]"
   ],
   "metadata": {
    "collapsed": false,
    "ExecuteTime": {
     "end_time": "2024-02-14T04:51:02.408431Z",
     "start_time": "2024-02-14T04:51:02.355433Z"
    }
   },
   "id": "67708ad848a9bf13",
   "execution_count": 9
  },
  {
   "cell_type": "code",
   "outputs": [
    {
     "name": "stdout",
     "output_type": "stream",
     "text": [
      "Train set: (800, 11) (800,)\n",
      "Test set: (200, 11) (200,)\n"
     ]
    }
   ],
   "source": [
    "from sklearn.model_selection import train_test_split\n",
    "\n",
    "X_train, X_test, y_train, y_test = train_test_split(X, y, test_size=0.2, random_state=4)\n",
    "print('Train set:', X_train.shape, y_train.shape)\n",
    "print('Test set:', X_test.shape, y_test.shape)"
   ],
   "metadata": {
    "collapsed": false,
    "ExecuteTime": {
     "end_time": "2024-02-14T04:51:02.443774Z",
     "start_time": "2024-02-14T04:51:02.362629Z"
    }
   },
   "id": "7952504bc67967ab",
   "execution_count": 10
  },
  {
   "cell_type": "code",
   "outputs": [],
   "source": [
    "from sklearn.neighbors import KNeighborsClassifier\n",
    "\n",
    "k = 4\n",
    "knn4 = KNeighborsClassifier(n_neighbors=k).fit(X_train, y_train)"
   ],
   "metadata": {
    "collapsed": false,
    "ExecuteTime": {
     "end_time": "2024-02-14T04:51:02.449297Z",
     "start_time": "2024-02-14T04:51:02.404223Z"
    }
   },
   "id": "f0fd1ec5045ccb61",
   "execution_count": 11
  },
  {
   "cell_type": "code",
   "outputs": [
    {
     "data": {
      "text/plain": "array([3, 1, 3, 4, 4])"
     },
     "execution_count": 12,
     "metadata": {},
     "output_type": "execute_result"
    }
   ],
   "source": [
    "yhat = knn4.predict(X_test)\n",
    "yhat[0:5]"
   ],
   "metadata": {
    "collapsed": false,
    "ExecuteTime": {
     "end_time": "2024-02-14T04:51:02.452843Z",
     "start_time": "2024-02-14T04:51:02.447427Z"
    }
   },
   "id": "b4f115971c6fd341",
   "execution_count": 12
  },
  {
   "cell_type": "code",
   "outputs": [
    {
     "name": "stdout",
     "output_type": "stream",
     "text": [
      "Train set Accuracy:  0.5575\n",
      "Test set Accuracy:  0.26\n"
     ]
    }
   ],
   "source": [
    "from sklearn import metrics\n",
    "\n",
    "print(\"Train set Accuracy: \", metrics.accuracy_score(y_train, knn4.predict(X_train)))\n",
    "print(\"Test set Accuracy: \", metrics.accuracy_score(y_test, yhat))"
   ],
   "metadata": {
    "collapsed": false,
    "ExecuteTime": {
     "end_time": "2024-02-14T04:51:02.474542Z",
     "start_time": "2024-02-14T04:51:02.453681Z"
    }
   },
   "id": "94972cc46856566c",
   "execution_count": 13
  },
  {
   "cell_type": "code",
   "outputs": [
    {
     "name": "stdout",
     "output_type": "stream",
     "text": [
      "Train set Accuracy:  0.485\n",
      "Test set Accuracy:  0.32\n"
     ]
    }
   ],
   "source": [
    "k = 9\n",
    "knn9 = KNeighborsClassifier(n_neighbors=k).fit(X_train, y_train)\n",
    "print(\"Train set Accuracy: \", metrics.accuracy_score(y_train, knn9.predict(X_train)))\n",
    "print(\"Test set Accuracy: \", metrics.accuracy_score(y_test, knn9.predict(X_test)))"
   ],
   "metadata": {
    "collapsed": false,
    "ExecuteTime": {
     "end_time": "2024-02-14T04:51:02.483605Z",
     "start_time": "2024-02-14T04:51:02.466391Z"
    }
   },
   "id": "545c37dc698e4d75",
   "execution_count": 14
  },
  {
   "cell_type": "code",
   "outputs": [],
   "source": [
    "Ks = 200\n",
    "test_acc = np.zeros(Ks - 1)\n",
    "std_acc = np.zeros(Ks - 1)\n",
    "train_acc = np.zeros(Ks - 1)\n",
    "\n",
    "for n in range(1, Ks):\n",
    "    #Train Model and Predict  \n",
    "    knn = KNeighborsClassifier(n_neighbors=n).fit(X_train, y_train)\n",
    "    yhat = knn.predict(X_test)\n",
    "    test_acc[n - 1] = metrics.accuracy_score(y_test, yhat)\n",
    "    train_acc[n - 1] = metrics.accuracy_score(y_train, knn.predict(X_train))\n",
    "    # std_acc[n - 1] = np.std(yhat == y_test) / np.sqrt(yhat.shape[0])"
   ],
   "metadata": {
    "collapsed": false,
    "ExecuteTime": {
     "end_time": "2024-02-14T04:51:06.892291Z",
     "start_time": "2024-02-14T04:51:02.483550Z"
    }
   },
   "id": "1b69a5921db9db36",
   "execution_count": 15
  },
  {
   "cell_type": "code",
   "outputs": [
    {
     "data": {
      "text/plain": "<Figure size 640x480 with 1 Axes>",
      "image/png": "[encoded data removed]"
     },
     "metadata": {},
     "output_type": "display_data"
    }
   ],
   "source": [
    "plt.plot(range(1, Ks), test_acc, color='green')\n",
    "plt.plot(range(1, Ks), train_acc, color='blue')\n",
    "# plt.fill_between(range(1, Ks), mean_acc - 1 * std_acc, mean_acc + 1 * std_acc, alpha=0.10)\n",
    "# plt.fill_between(range(1, Ks), mean_acc - 3 * std_acc, mean_acc + 3 * std_acc, alpha=0.10, color=\"green\")\n",
    "# plt.legend(('Accuracy ', '+/- 1xstd', '+/- 3xstd'))\n",
    "plt.legend(('Test Accuracy', 'Train Accuracy'))\n",
    "plt.ylabel('Accuracy')\n",
    "plt.xlabel('Number of Neighbors (K)')\n",
    "plt.tight_layout()"
   ],
   "metadata": {
    "collapsed": false,
    "ExecuteTime": {
     "end_time": "2024-02-14T04:51:06.960087Z",
     "start_time": "2024-02-14T04:51:06.896200Z"
    }
   },
   "id": "f0ab3cc3f96625ba",
   "execution_count": 16
  },
  {
   "cell_type": "code",
   "outputs": [
    {
     "name": "stdout",
     "output_type": "stream",
     "text": [
      "The best accuracy was with 0.405 with k= 114\n"
     ]
    }
   ],
   "source": [
    "print(\"The best accuracy was with\", test_acc.max(), \"with k=\", test_acc.argmax() + 1)"
   ],
   "metadata": {
    "collapsed": false,
    "ExecuteTime": {
     "end_time": "2024-02-14T04:51:06.960527Z",
     "start_time": "2024-02-14T04:51:06.958186Z"
    }
   },
   "id": "c5e8f30147e0124c",
   "execution_count": 17
  }
 ],
 "metadata": {
  "kernelspec": {
   "display_name": "Python 3",
   "language": "python",
   "name": "python3"
  },
  "language_info": {
   "codemirror_mode": {
    "name": "ipython",
    "version": 2
   },
   "file_extension": ".py",
   "mimetype": "text/x-python",
   "name": "python",
   "nbconvert_exporter": "python",
   "pygments_lexer": "ipython2",
   "version": "2.7.6"
  }
 },
 "nbformat": 4,
 "nbformat_minor": 5
}
