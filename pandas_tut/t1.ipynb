{
 "cells": [
  {
   "cell_type": "code",
   "outputs": [],
   "source": [
    "import pandas as pd"
   ],
   "metadata": {
    "collapsed": false,
    "ExecuteTime": {
     "end_time": "2024-02-13T11:01:20.205012Z",
     "start_time": "2024-02-13T11:01:20.196736Z"
    }
   },
   "id": "f17d6c3d7ad46136",
   "execution_count": 33
  },
  {
   "cell_type": "code",
   "outputs": [
    {
     "data": {
      "text/plain": "    name  location  age\na   John  New York   24\nb   Anna     Paris   13\nc  Peter    Berlin   53\nd  Linda    London   33",
      "text/html": "<div>\n<style scoped>\n    .dataframe tbody tr th:only-of-type {\n        vertical-align: middle;\n    }\n\n    .dataframe tbody tr th {\n        vertical-align: top;\n    }\n\n    .dataframe thead th {\n        text-align: right;\n    }\n</style>\n<table border=\"1\" class=\"dataframe\">\n  <thead>\n    <tr style=\"text-align: right;\">\n      <th></th>\n      <th>name</th>\n      <th>location</th>\n      <th>age</th>\n    </tr>\n  </thead>\n  <tbody>\n    <tr>\n      <th>a</th>\n      <td>John</td>\n      <td>New York</td>\n      <td>24</td>\n    </tr>\n    <tr>\n      <th>b</th>\n      <td>Anna</td>\n      <td>Paris</td>\n      <td>13</td>\n    </tr>\n    <tr>\n      <th>c</th>\n      <td>Peter</td>\n      <td>Berlin</td>\n      <td>53</td>\n    </tr>\n    <tr>\n      <th>d</th>\n      <td>Linda</td>\n      <td>London</td>\n      <td>33</td>\n    </tr>\n  </tbody>\n</table>\n</div>"
     },
     "execution_count": 34,
     "metadata": {},
     "output_type": "execute_result"
    }
   ],
   "source": [
    "# Create a simple DataFrame\n",
    "df = pd.DataFrame({\n",
    "    'name': ['John', 'Anna', 'Peter', 'Linda'],\n",
    "    'location': ['New York', 'Paris', 'Berlin', 'London'],\n",
    "    'age': [24, 13, 53, 33]}, index=['a', 'b', 'c', 'd'])\n",
    "df"
   ],
   "metadata": {
    "collapsed": false,
    "ExecuteTime": {
     "end_time": "2024-02-13T11:01:20.227790Z",
     "start_time": "2024-02-13T11:01:20.209976Z"
    }
   },
   "id": "22db2c3605d5861a",
   "execution_count": 34
  },
  {
   "cell_type": "code",
   "outputs": [
    {
     "data": {
      "text/plain": "   name  location  age\na  John  New York   24\nb  Anna     Paris   13",
      "text/html": "<div>\n<style scoped>\n    .dataframe tbody tr th:only-of-type {\n        vertical-align: middle;\n    }\n\n    .dataframe tbody tr th {\n        vertical-align: top;\n    }\n\n    .dataframe thead th {\n        text-align: right;\n    }\n</style>\n<table border=\"1\" class=\"dataframe\">\n  <thead>\n    <tr style=\"text-align: right;\">\n      <th></th>\n      <th>name</th>\n      <th>location</th>\n      <th>age</th>\n    </tr>\n  </thead>\n  <tbody>\n    <tr>\n      <th>a</th>\n      <td>John</td>\n      <td>New York</td>\n      <td>24</td>\n    </tr>\n    <tr>\n      <th>b</th>\n      <td>Anna</td>\n      <td>Paris</td>\n      <td>13</td>\n    </tr>\n  </tbody>\n</table>\n</div>"
     },
     "execution_count": 35,
     "metadata": {},
     "output_type": "execute_result"
    }
   ],
   "source": [
    "df.loc[['a', 'b']]"
   ],
   "metadata": {
    "collapsed": false,
    "ExecuteTime": {
     "end_time": "2024-02-13T11:01:20.228349Z",
     "start_time": "2024-02-13T11:01:20.215381Z"
    }
   },
   "id": "556d63e97fdca074",
   "execution_count": 35
  },
  {
   "cell_type": "code",
   "outputs": [
    {
     "data": {
      "text/plain": "'John'"
     },
     "execution_count": 36,
     "metadata": {},
     "output_type": "execute_result"
    }
   ],
   "source": [
    "df.loc['a', 'name']"
   ],
   "metadata": {
    "collapsed": false,
    "ExecuteTime": {
     "end_time": "2024-02-13T11:01:20.228640Z",
     "start_time": "2024-02-13T11:01:20.218620Z"
    }
   },
   "id": "4acd496b762fcae7",
   "execution_count": 36
  },
  {
   "cell_type": "code",
   "outputs": [
    {
     "data": {
      "text/plain": "a     John\nb     Anna\nc    Peter\nName: name, dtype: object"
     },
     "execution_count": 37,
     "metadata": {},
     "output_type": "execute_result"
    }
   ],
   "source": [
    "df.loc['a':'c', 'name']"
   ],
   "metadata": {
    "collapsed": false,
    "ExecuteTime": {
     "end_time": "2024-02-13T11:01:20.229062Z",
     "start_time": "2024-02-13T11:01:20.223019Z"
    }
   },
   "id": "ce4dd9eae2e78891",
   "execution_count": 37
  },
  {
   "cell_type": "code",
   "outputs": [
    {
     "data": {
      "text/plain": "    name  location  age\na   John  New York   24\nc  Peter    Berlin   53",
      "text/html": "<div>\n<style scoped>\n    .dataframe tbody tr th:only-of-type {\n        vertical-align: middle;\n    }\n\n    .dataframe tbody tr th {\n        vertical-align: top;\n    }\n\n    .dataframe thead th {\n        text-align: right;\n    }\n</style>\n<table border=\"1\" class=\"dataframe\">\n  <thead>\n    <tr style=\"text-align: right;\">\n      <th></th>\n      <th>name</th>\n      <th>location</th>\n      <th>age</th>\n    </tr>\n  </thead>\n  <tbody>\n    <tr>\n      <th>a</th>\n      <td>John</td>\n      <td>New York</td>\n      <td>24</td>\n    </tr>\n    <tr>\n      <th>c</th>\n      <td>Peter</td>\n      <td>Berlin</td>\n      <td>53</td>\n    </tr>\n  </tbody>\n</table>\n</div>"
     },
     "execution_count": 38,
     "metadata": {},
     "output_type": "execute_result"
    }
   ],
   "source": [
    "df.loc[[True, False, True, False]]"
   ],
   "metadata": {
    "collapsed": false,
    "ExecuteTime": {
     "end_time": "2024-02-13T11:01:20.236954Z",
     "start_time": "2024-02-13T11:01:20.227739Z"
    }
   },
   "id": "95ff2df36cbc053",
   "execution_count": 38
  },
  {
   "cell_type": "code",
   "outputs": [
    {
     "data": {
      "text/plain": "name        object\nlocation    object\nage          int64\ndtype: object"
     },
     "execution_count": 39,
     "metadata": {},
     "output_type": "execute_result"
    }
   ],
   "source": [
    "df.dtypes"
   ],
   "metadata": {
    "collapsed": false,
    "ExecuteTime": {
     "end_time": "2024-02-13T11:01:20.237251Z",
     "start_time": "2024-02-13T11:01:20.231064Z"
    }
   },
   "id": "ce02cd6ef03e393c",
   "execution_count": 39
  }
 ],
 "metadata": {
  "kernelspec": {
   "display_name": "Python 3",
   "language": "python",
   "name": "python3"
  },
  "language_info": {
   "codemirror_mode": {
    "name": "ipython",
    "version": 2
   },
   "file_extension": ".py",
   "mimetype": "text/x-python",
   "name": "python",
   "nbconvert_exporter": "python",
   "pygments_lexer": "ipython2",
   "version": "2.7.6"
  }
 },
 "nbformat": 4,
 "nbformat_minor": 5
}
