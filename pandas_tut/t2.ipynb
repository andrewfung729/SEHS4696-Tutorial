{
 "cells": [
  {
   "cell_type": "code",
   "execution_count": 1,
   "id": "initial_id",
   "metadata": {
    "collapsed": true,
    "ExecuteTime": {
     "end_time": "2024-02-13T11:01:44.015492Z",
     "start_time": "2024-02-13T11:01:41.072224Z"
    }
   },
   "outputs": [],
   "source": [
    "import pandas as pd"
   ]
  },
  {
   "cell_type": "code",
   "outputs": [
    {
     "data": {
      "text/plain": "     name  age instrument\n0    John   22     guitar\n1    Paul   21       bass\n2  George   23     guitar\n3   Ringo   22      drums",
      "text/html": "<div>\n<style scoped>\n    .dataframe tbody tr th:only-of-type {\n        vertical-align: middle;\n    }\n\n    .dataframe tbody tr th {\n        vertical-align: top;\n    }\n\n    .dataframe thead th {\n        text-align: right;\n    }\n</style>\n<table border=\"1\" class=\"dataframe\">\n  <thead>\n    <tr style=\"text-align: right;\">\n      <th></th>\n      <th>name</th>\n      <th>age</th>\n      <th>instrument</th>\n    </tr>\n  </thead>\n  <tbody>\n    <tr>\n      <th>0</th>\n      <td>John</td>\n      <td>22</td>\n      <td>guitar</td>\n    </tr>\n    <tr>\n      <th>1</th>\n      <td>Paul</td>\n      <td>21</td>\n      <td>bass</td>\n    </tr>\n    <tr>\n      <th>2</th>\n      <td>George</td>\n      <td>23</td>\n      <td>guitar</td>\n    </tr>\n    <tr>\n      <th>3</th>\n      <td>Ringo</td>\n      <td>22</td>\n      <td>drums</td>\n    </tr>\n  </tbody>\n</table>\n</div>"
     },
     "execution_count": 2,
     "metadata": {},
     "output_type": "execute_result"
    }
   ],
   "source": [
    "df = pd.DataFrame({'name': ['John', 'Paul', 'George', 'Ringo'],\n",
    "                   'age': [22, 21, 23, 22],\n",
    "                   'instrument': ['guitar', 'bass', 'guitar', 'drums']})\n",
    "df"
   ],
   "metadata": {
    "collapsed": false,
    "ExecuteTime": {
     "end_time": "2024-02-13T11:02:16.628870Z",
     "start_time": "2024-02-13T11:02:16.622097Z"
    }
   },
   "id": "74b344a3bfde3fa3",
   "execution_count": 2
  },
  {
   "cell_type": "code",
   "outputs": [
    {
     "data": {
      "text/plain": "name            John\nage               22\ninstrument    guitar\nName: 0, dtype: object"
     },
     "execution_count": 3,
     "metadata": {},
     "output_type": "execute_result"
    }
   ],
   "source": [
    "df.iloc[0]"
   ],
   "metadata": {
    "collapsed": false,
    "ExecuteTime": {
     "end_time": "2024-02-13T11:03:25.814440Z",
     "start_time": "2024-02-13T11:03:25.811531Z"
    }
   },
   "id": "4a949e00a1da0f49",
   "execution_count": 3
  },
  {
   "cell_type": "code",
   "outputs": [
    {
     "data": {
      "text/plain": "22"
     },
     "execution_count": 4,
     "metadata": {},
     "output_type": "execute_result"
    }
   ],
   "source": [
    "df.iloc[0, 1]"
   ],
   "metadata": {
    "collapsed": false,
    "ExecuteTime": {
     "end_time": "2024-02-13T11:03:35.510575Z",
     "start_time": "2024-02-13T11:03:35.507215Z"
    }
   },
   "id": "1c4ac471b1a578fc",
   "execution_count": 4
  },
  {
   "cell_type": "code",
   "outputs": [
    {
     "data": {
      "text/plain": "   age instrument\n0   22     guitar\n1   21       bass",
      "text/html": "<div>\n<style scoped>\n    .dataframe tbody tr th:only-of-type {\n        vertical-align: middle;\n    }\n\n    .dataframe tbody tr th {\n        vertical-align: top;\n    }\n\n    .dataframe thead th {\n        text-align: right;\n    }\n</style>\n<table border=\"1\" class=\"dataframe\">\n  <thead>\n    <tr style=\"text-align: right;\">\n      <th></th>\n      <th>age</th>\n      <th>instrument</th>\n    </tr>\n  </thead>\n  <tbody>\n    <tr>\n      <th>0</th>\n      <td>22</td>\n      <td>guitar</td>\n    </tr>\n    <tr>\n      <th>1</th>\n      <td>21</td>\n      <td>bass</td>\n    </tr>\n  </tbody>\n</table>\n</div>"
     },
     "execution_count": 5,
     "metadata": {},
     "output_type": "execute_result"
    }
   ],
   "source": [
    "df.iloc[0:2, 1:3]"
   ],
   "metadata": {
    "collapsed": false,
    "ExecuteTime": {
     "end_time": "2024-02-13T11:03:42.755111Z",
     "start_time": "2024-02-13T11:03:42.752370Z"
    }
   },
   "id": "79080c42e53ef5d6",
   "execution_count": 5
  },
  {
   "cell_type": "code",
   "outputs": [
    {
     "name": "stdout",
     "output_type": "stream",
     "text": [
      "<class 'numpy.ndarray'>\n",
      "[['John' 22]\n",
      " ['Paul' 21]\n",
      " ['George' 23]\n",
      " ['Ringo' 22]]\n"
     ]
    }
   ],
   "source": [
    "v1 = df.iloc[:,:-1].values\n",
    "print(type(v1))\n",
    "print(v1)"
   ],
   "metadata": {
    "collapsed": false,
    "ExecuteTime": {
     "end_time": "2024-02-13T11:07:01.700939Z",
     "start_time": "2024-02-13T11:07:01.697119Z"
    }
   },
   "id": "e6c9cd97f719c61e",
   "execution_count": 8
  },
  {
   "cell_type": "code",
   "outputs": [],
   "source": [],
   "metadata": {
    "collapsed": false
   },
   "id": "335ef33b58d6a945"
  }
 ],
 "metadata": {
  "kernelspec": {
   "display_name": "Python 3",
   "language": "python",
   "name": "python3"
  },
  "language_info": {
   "codemirror_mode": {
    "name": "ipython",
    "version": 2
   },
   "file_extension": ".py",
   "mimetype": "text/x-python",
   "name": "python",
   "nbconvert_exporter": "python",
   "pygments_lexer": "ipython2",
   "version": "2.7.6"
  }
 },
 "nbformat": 4,
 "nbformat_minor": 5
}
