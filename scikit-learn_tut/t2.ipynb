{
 "cells": [
  {
   "cell_type": "code",
   "execution_count": 1,
   "id": "initial_id",
   "metadata": {
    "collapsed": true,
    "ExecuteTime": {
     "end_time": "2024-02-14T01:01:51.931335Z",
     "start_time": "2024-02-14T01:01:51.606257Z"
    }
   },
   "outputs": [],
   "source": [
    "import numpy as np\n",
    "from sklearn.compose import ColumnTransformer\n",
    "from sklearn.preprocessing import OneHotEncoder"
   ]
  },
  {
   "cell_type": "code",
   "outputs": [
    {
     "data": {
      "text/plain": "array([['1.0', '0.0', '0.0', '44'],\n       ['0.0', '0.0', '1.0', '27'],\n       ['0.0', '1.0', '0.0', '30'],\n       ['0.0', '0.0', '1.0', '38'],\n       ['0.0', '1.0', '0.0', '40'],\n       ['1.0', '0.0', '0.0', '35'],\n       ['0.0', '0.0', '1.0', '38'],\n       ['1.0', '0.0', '0.0', '48'],\n       ['0.0', '1.0', '0.0', '50'],\n       ['1.0', '0.0', '0.0', '37']], dtype='<U32')"
     },
     "execution_count": 2,
     "metadata": {},
     "output_type": "execute_result"
    }
   ],
   "source": [
    "# Create a dataset with categorical(country) and numerical data\n",
    "X = np.array([\n",
    "    ['France', 44],\n",
    "    ['Spain', 27],\n",
    "    ['Germany', 30],\n",
    "    ['Spain', 38],\n",
    "    ['Germany', 40],\n",
    "    ['France', 35],\n",
    "    ['Spain', 38],\n",
    "    ['France', 48],\n",
    "    ['Germany', 50],\n",
    "    ['France', 37]\n",
    "])\n",
    "\n",
    "column_transformer = ColumnTransformer(\n",
    "    transformers=[\n",
    "        ('encoder', OneHotEncoder(), [0])\n",
    "    ],\n",
    "    remainder='passthrough'\n",
    ")\n",
    "\n",
    "X_encoded = column_transformer.fit_transform(X)\n",
    "X_encoded"
   ],
   "metadata": {
    "collapsed": false,
    "ExecuteTime": {
     "end_time": "2024-02-14T01:03:32.778525Z",
     "start_time": "2024-02-14T01:03:32.771919Z"
    }
   },
   "id": "e46c7b8ae0f29593",
   "execution_count": 2
  },
  {
   "cell_type": "code",
   "outputs": [
    {
     "name": "stdout",
     "output_type": "stream",
     "text": [
      "[[ 0.76973439]\n",
      " [-1.69922498]\n",
      " [-1.26352627]\n",
      " [-0.10166303]\n",
      " [ 0.18880278]\n",
      " [-0.53736175]\n",
      " [-0.10166303]\n",
      " [ 1.35066601]\n",
      " [ 1.64113182]\n",
      " [-0.24689594]]\n"
     ]
    },
    {
     "data": {
      "text/plain": "array([['1.0', '0.0', '0.0', '0.7697343929216671'],\n       ['0.0', '0.0', '1.0', '-1.6992249806006627'],\n       ['0.0', '1.0', '0.0', '-1.2635262676261338'],\n       ['0.0', '0.0', '1.0', '-0.10166303302739046'],\n       ['0.0', '1.0', '0.0', '0.1888027756222954'],\n       ['1.0', '0.0', '0.0', '-0.5373617460019192'],\n       ['0.0', '0.0', '1.0', '-0.10166303302739046'],\n       ['1.0', '0.0', '0.0', '1.3506660102210388'],\n       ['0.0', '1.0', '0.0', '1.6411318188707247'],\n       ['1.0', '0.0', '0.0', '-0.2468959373522334']], dtype='<U32')"
     },
     "execution_count": 13,
     "metadata": {},
     "output_type": "execute_result"
    }
   ],
   "source": [
    "from sklearn.preprocessing import StandardScaler\n",
    "\n",
    "scaler = StandardScaler()\n",
    "\n",
    "X_scaled = scaler.fit_transform(X_encoded[:, 3:4])\n",
    "print(X_scaled)\n",
    "X_encoded[:, 3:4] = X_scaled\n",
    "X_encoded"
   ],
   "metadata": {
    "collapsed": false,
    "ExecuteTime": {
     "end_time": "2024-02-14T01:44:44.677504Z",
     "start_time": "2024-02-14T01:44:44.674675Z"
    }
   },
   "id": "4ef0959c0b4a1b6c",
   "execution_count": 13
  }
 ],
 "metadata": {
  "kernelspec": {
   "display_name": "Python 3",
   "language": "python",
   "name": "python3"
  },
  "language_info": {
   "codemirror_mode": {
    "name": "ipython",
    "version": 2
   },
   "file_extension": ".py",
   "mimetype": "text/x-python",
   "name": "python",
   "nbconvert_exporter": "python",
   "pygments_lexer": "ipython2",
   "version": "2.7.6"
  }
 },
 "nbformat": 4,
 "nbformat_minor": 5
}
