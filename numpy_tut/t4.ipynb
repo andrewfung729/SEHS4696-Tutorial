{
 "cells": [
  {
   "cell_type": "code",
   "execution_count": 1,
   "id": "initial_id",
   "metadata": {
    "collapsed": true,
    "ExecuteTime": {
     "end_time": "2024-02-13T07:56:55.200824Z",
     "start_time": "2024-02-13T07:56:55.122364Z"
    }
   },
   "outputs": [],
   "source": [
    "import numpy as np"
   ]
  },
  {
   "cell_type": "code",
   "outputs": [
    {
     "data": {
      "text/plain": "array([[15, 43, 89, 11],\n       [98, 48, 95, 28],\n       [12, 84, 40, 58],\n       [60, 82, 64, 81],\n       [28, 94, 87,  1]])"
     },
     "execution_count": 3,
     "metadata": {},
     "output_type": "execute_result"
    }
   ],
   "source": [
    "arr = np.random.randint(1, 100, size=(5, 4))\n",
    "arr"
   ],
   "metadata": {
    "collapsed": false,
    "ExecuteTime": {
     "end_time": "2024-02-13T07:57:26.621848Z",
     "start_time": "2024-02-13T07:57:26.617842Z"
    }
   },
   "id": "f40fd2ea9694d4ec",
   "execution_count": 3
  },
  {
   "cell_type": "code",
   "outputs": [
    {
     "data": {
      "text/plain": "1118"
     },
     "execution_count": 5,
     "metadata": {},
     "output_type": "execute_result"
    }
   ],
   "source": [
    "arr.sum()"
   ],
   "metadata": {
    "collapsed": false,
    "ExecuteTime": {
     "end_time": "2024-02-13T07:57:39.867248Z",
     "start_time": "2024-02-13T07:57:39.848694Z"
    }
   },
   "id": "d8efd391376dae4a",
   "execution_count": 5
  },
  {
   "cell_type": "code",
   "outputs": [
    {
     "data": {
      "text/plain": "array([89, 98, 84, 82, 94])"
     },
     "execution_count": 8,
     "metadata": {},
     "output_type": "execute_result"
    }
   ],
   "source": [
    "arr.max(axis=1)"
   ],
   "metadata": {
    "collapsed": false,
    "ExecuteTime": {
     "end_time": "2024-02-13T08:01:49.430217Z",
     "start_time": "2024-02-13T08:01:49.424011Z"
    }
   },
   "id": "d529f7170093612b",
   "execution_count": 8
  },
  {
   "cell_type": "code",
   "outputs": [
    {
     "data": {
      "text/plain": "array([[[48, 69, 87, 16, 28],\n        [74, 39, 75, 94, 14],\n        [91, 32,  1, 62, 69],\n        [34, 78, 40, 96, 27]],\n\n       [[26, 77, 10, 12, 15],\n        [ 5, 35, 13,  1, 65],\n        [40, 68, 96, 48, 86],\n        [99,  5, 37, 20, 90]],\n\n       [[78, 80, 98, 19, 66],\n        [89, 14, 61, 25, 52],\n        [ 4, 98, 47, 14, 29],\n        [74, 61, 40, 90,  8]]])"
     },
     "execution_count": 11,
     "metadata": {},
     "output_type": "execute_result"
    }
   ],
   "source": [
    "arr_3d = np.random.randint(1, 100, size=(3, 4, 5))\n",
    "arr_3d"
   ],
   "metadata": {
    "collapsed": false,
    "ExecuteTime": {
     "end_time": "2024-02-13T08:04:42.260004Z",
     "start_time": "2024-02-13T08:04:42.256113Z"
    }
   },
   "id": "d91f67e41f49dda",
   "execution_count": 11
  },
  {
   "cell_type": "code",
   "outputs": [
    {
     "data": {
      "text/plain": "array([[87, 94, 91, 96],\n       [77, 65, 96, 99],\n       [98, 89, 98, 90]])"
     },
     "execution_count": 14,
     "metadata": {},
     "output_type": "execute_result"
    }
   ],
   "source": [
    "arr_3d.max(axis=2)"
   ],
   "metadata": {
    "collapsed": false,
    "ExecuteTime": {
     "end_time": "2024-02-13T08:09:10.990188Z",
     "start_time": "2024-02-13T08:09:10.983863Z"
    }
   },
   "id": "c325f9d3652dd23e",
   "execution_count": 14
  }
 ],
 "metadata": {
  "kernelspec": {
   "display_name": "Python 3",
   "language": "python",
   "name": "python3"
  },
  "language_info": {
   "codemirror_mode": {
    "name": "ipython",
    "version": 2
   },
   "file_extension": ".py",
   "mimetype": "text/x-python",
   "name": "python",
   "nbconvert_exporter": "python",
   "pygments_lexer": "ipython2",
   "version": "2.7.6"
  }
 },
 "nbformat": 4,
 "nbformat_minor": 5
}
