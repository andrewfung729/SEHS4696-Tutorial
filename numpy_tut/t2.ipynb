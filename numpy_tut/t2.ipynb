{
 "cells": [
  {
   "cell_type": "code",
   "execution_count": 3,
   "id": "initial_id",
   "metadata": {
    "collapsed": true,
    "ExecuteTime": {
     "end_time": "2024-02-13T07:06:32.393370Z",
     "start_time": "2024-02-13T07:06:32.391448Z"
    }
   },
   "outputs": [],
   "source": [
    "import numpy as np"
   ]
  },
  {
   "cell_type": "code",
   "outputs": [
    {
     "name": "stdout",
     "output_type": "stream",
     "text": [
      "(3, 4)\n"
     ]
    },
    {
     "data": {
      "text/plain": "array([[ 1,  2,  3,  4],\n       [65, 78, 90, 81],\n       [71, 82, 79, 92]])"
     },
     "execution_count": 6,
     "metadata": {},
     "output_type": "execute_result"
    }
   ],
   "source": [
    "row_students = np.array([1, 2, 3, 4])\n",
    "row_math = np.array([65, 78, 90, 81])\n",
    "row_english = np.array([71, 82, 79, 92])\n",
    "\n",
    "students = np.array([row_students, row_math, row_english])\n",
    "print(students.shape)\n",
    "students"
   ],
   "metadata": {
    "collapsed": false,
    "ExecuteTime": {
     "end_time": "2024-02-13T07:08:05.497640Z",
     "start_time": "2024-02-13T07:08:05.495336Z"
    }
   },
   "id": "b92e0f972f5d1f11",
   "execution_count": 6
  },
  {
   "cell_type": "code",
   "outputs": [
    {
     "data": {
      "text/plain": "array([81, 92])"
     },
     "execution_count": 8,
     "metadata": {},
     "output_type": "execute_result"
    }
   ],
   "source": [
    "students[1:, 3]"
   ],
   "metadata": {
    "collapsed": false,
    "ExecuteTime": {
     "end_time": "2024-02-13T07:11:50.083519Z",
     "start_time": "2024-02-13T07:11:50.078801Z"
    }
   },
   "id": "6fdcc92b115286cb",
   "execution_count": 8
  },
  {
   "cell_type": "code",
   "outputs": [
    {
     "data": {
      "text/plain": "array([[ 2,  4],\n       [78, 81],\n       [82, 92]])"
     },
     "execution_count": 12,
     "metadata": {},
     "output_type": "execute_result"
    }
   ],
   "source": [
    "students[:, 1::2]"
   ],
   "metadata": {
    "collapsed": false,
    "ExecuteTime": {
     "end_time": "2024-02-13T07:18:16.700559Z",
     "start_time": "2024-02-13T07:18:16.694765Z"
    }
   },
   "id": "51e595c627aff58f",
   "execution_count": 12
  },
  {
   "cell_type": "code",
   "outputs": [
    {
     "name": "stdout",
     "output_type": "stream",
     "text": [
      "[[False False False False]\n",
      " [ True  True False False]\n",
      " [ True False  True False]]\n"
     ]
    },
    {
     "data": {
      "text/plain": "array([[nan, nan, nan, nan],\n       [65., 78., nan, nan],\n       [71., nan, 79., nan]])"
     },
     "execution_count": 21,
     "metadata": {},
     "output_type": "execute_result"
    }
   ],
   "source": [
    "mask = (students >= 60) & (students <= 80)\n",
    "print(mask)\n",
    "np.where(mask, students, np.nan)"
   ],
   "metadata": {
    "collapsed": false,
    "ExecuteTime": {
     "end_time": "2024-02-13T07:29:55.403759Z",
     "start_time": "2024-02-13T07:29:55.400439Z"
    }
   },
   "id": "a7b57bc5f1da3a11",
   "execution_count": 21
  },
  {
   "cell_type": "code",
   "outputs": [
    {
     "data": {
      "text/plain": "array([[1, 0],\n       [1, 1],\n       [2, 0],\n       [2, 2]])"
     },
     "execution_count": 19,
     "metadata": {},
     "output_type": "execute_result"
    }
   ],
   "source": [
    "np.argwhere(mask)"
   ],
   "metadata": {
    "collapsed": false,
    "ExecuteTime": {
     "end_time": "2024-02-13T07:29:47.604565Z",
     "start_time": "2024-02-13T07:29:47.601836Z"
    }
   },
   "id": "6ce8453e6a78302a",
   "execution_count": 19
  }
 ],
 "metadata": {
  "kernelspec": {
   "display_name": "Python 3",
   "language": "python",
   "name": "python3"
  },
  "language_info": {
   "codemirror_mode": {
    "name": "ipython",
    "version": 2
   },
   "file_extension": ".py",
   "mimetype": "text/x-python",
   "name": "python",
   "nbconvert_exporter": "python",
   "pygments_lexer": "ipython2",
   "version": "2.7.6"
  }
 },
 "nbformat": 4,
 "nbformat_minor": 5
}
