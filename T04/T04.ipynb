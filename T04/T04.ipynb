{
 "cells": [
  {
   "cell_type": "markdown",
   "source": [
    "# ## Multiple Linear Regression Exercise\n",
    "#    \n",
    "# #### Enter your name below as shown in the class register.\n",
    "# #### Name: *CHAN Tai Man John*\n",
    "# \n",
    "# ### In this exercise, you can replace the aliases/abbreviations and variable names as you see fit. You should add appropriate comments to help you and the reader to understand the program.\n",
    "# References:<br>\n",
    "# <ul>\n",
    "#     <li>Ch6 of Lee (2019)</li>\n",
    "#     <li>Agarwal (2018) at https://towardsdatascience.com/linear-regression-on-boston-housing-dataset-f409b7e4a155</li>\n",
    "# </ul>"
   ],
   "metadata": {
    "collapsed": false
   },
   "id": "55ff3b2760b1aea3"
  },
  {
   "cell_type": "code",
   "outputs": [],
   "source": [
    "# You must download the dataset from the course web page.\n",
    "\n",
    "# Import the necessary packages and give them aliases\n",
    "import matplotlib.pyplot as plt\n",
    "import pandas as pd\n",
    "import numpy as np\n",
    "from sklearn.linear_model import LinearRegression\n",
    "\n",
    "# Create a dataframe variable called df by calling the read_csv() function of the pandas package\n",
    "df = pd.read_csv('California Housing.csv')\n",
    "\n",
    "print (df.shape)\n",
    "\n",
    "df.head()"
   ],
   "metadata": {
    "collapsed": false
   },
   "id": "4760f327dd9572cc"
  },
  {
   "cell_type": "code",
   "outputs": [],
   "source": [
    "df.info()"
   ],
   "metadata": {
    "collapsed": false
   },
   "id": "80a67df1d5bb1627"
  },
  {
   "cell_type": "code",
   "outputs": [],
   "source": [
    "print (df.max())\n",
    "\n",
    "print ()\n",
    "\n",
    "df_new = df.isnull()\n",
    "print (df_new)"
   ],
   "metadata": {
    "collapsed": false
   },
   "id": "8afbf9fd52f768e6"
  },
  {
   "cell_type": "code",
   "outputs": [],
   "source": [
    "corr = df.corr()\n",
    "print(corr)"
   ],
   "metadata": {
    "collapsed": false
   },
   "id": "1bc521d4c4553f13"
  },
  {
   "cell_type": "code",
   "outputs": [],
   "source": [
    "# Let's show the same dataframe in a hotter way - using a heatmap\n",
    "import seaborn as sns\n",
    "sns.heatmap(data=corr, annot=True)"
   ],
   "metadata": {
    "collapsed": false
   },
   "id": "dc0ef041547f559c"
  },
  {
   "cell_type": "code",
   "outputs": [],
   "source": [
    "\n",
    "\n",
    "print(df.corr().abs().nlargest(3,'MEDV'))\n",
    "print()\n",
    "print(df.corr().abs().nlargest(3,'MEDV').index)\n",
    "print()\n",
    "print(df.corr().abs().nlargest(3,'MEDV').values[:,8])"
   ],
   "metadata": {
    "collapsed": false
   },
   "id": "cc27837daf42dc84"
  },
  {
   "cell_type": "code",
   "outputs": [],
   "source": [
    "\n",
    "\n",
    "plt.title('Median income plotted against Median Value')\n",
    "plt.xlabel('MedInc')\n",
    "plt.ylabel('MEDV')\n",
    "plt.plot(df['MedInc'],df['MEDV'], 'o')\n",
    "plt.grid(True)"
   ],
   "metadata": {
    "collapsed": false
   },
   "id": "196da406db0d3180"
  },
  {
   "cell_type": "code",
   "outputs": [],
   "source": [
    "\n",
    "\n",
    "plt.plot(df['AveRooms'],df['MEDV'], 'x')\n",
    "plt.grid(True)"
   ],
   "metadata": {
    "collapsed": false
   },
   "id": "691e1cd718c2eba1"
  },
  {
   "cell_type": "code",
   "outputs": [],
   "source": [
    "\n",
    "\n",
    "X = pd.DataFrame(np.c_[df['AveRooms'],df['MedInc']],columns=['AveRooms','MedInc'])\n",
    "print (X)\n",
    "print ()\n",
    "\n",
    "y = df['MEDV']\n",
    "print (y)"
   ],
   "metadata": {
    "collapsed": false
   },
   "id": "1e462d26f43518b9"
  },
  {
   "cell_type": "code",
   "outputs": [],
   "source": [
    "\n",
    "\n",
    "from sklearn.model_selection import train_test_split\n",
    "x_train, x_test, Y_train, Y_test = train_test_split(X,y, test_size=0.2, random_state = 5 )"
   ],
   "metadata": {
    "collapsed": false
   },
   "id": "5864ecafeb54d5f7"
  },
  {
   "cell_type": "code",
   "outputs": [],
   "source": [
    "\n",
    "\n",
    "slr_MedInc = LinearRegression()\n",
    "slr_MedInc.fit(X=x_train[['MedInc']], y=Y_train)\n",
    "# Try calculating the score \n",
    "print('R-Squared: %.4f' % slr_MedInc.score(x_test[['MedInc']],Y_test))\n",
    "\n",
    "slr_rooms = LinearRegression()\n",
    "slr_rooms.fit(X=x_train[['AveRooms']], y=Y_train)\n",
    "print('R-Squared: %.4f' % slr_rooms.score(x_test[['AveRooms']],Y_test))\n",
    "\n",
    "\n",
    "# # The End"
   ],
   "metadata": {
    "collapsed": false
   },
   "id": "107834d2d88432b7"
  },
  {
   "cell_type": "code",
   "outputs": [],
   "source": [
    "\n",
    "\n"
   ],
   "metadata": {
    "collapsed": false
   },
   "id": "9c456ac7c73bf60e"
  }
 ],
 "metadata": {
  "jupytext": {
   "cell_metadata_filter": "-all",
   "encoding": "# coding: utf-8",
   "executable": "/usr/bin/env python",
   "main_language": "python",
   "notebook_metadata_filter": "-all"
  },
  "kernelspec": {
   "name": "python3",
   "language": "python",
   "display_name": "Python 3 (ipykernel)"
  }
 },
 "nbformat": 4,
 "nbformat_minor": 5
}
