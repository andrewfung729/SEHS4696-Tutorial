{
 "cells": [
  {
   "cell_type": "code",
   "outputs": [],
   "source": [
    "from sklearn.datasets import load_breast_cancer\n",
    "from sklearn import linear_model\n",
    "from sklearn.model_selection import train_test_split"
   ],
   "metadata": {
    "collapsed": false,
    "ExecuteTime": {
     "end_time": "2024-03-12T12:28:35.352365Z",
     "start_time": "2024-03-12T12:28:34.756841Z"
    }
   },
   "id": "7f94f4ff2f74c1e2",
   "execution_count": 1
  },
  {
   "cell_type": "code",
   "outputs": [],
   "source": [
    "ds = load_breast_cancer()"
   ],
   "metadata": {
    "collapsed": false,
    "ExecuteTime": {
     "end_time": "2024-03-12T12:28:35.361214Z",
     "start_time": "2024-03-12T12:28:35.353488Z"
    }
   },
   "id": "6b53f910e16b5d9d",
   "execution_count": 2
  },
  {
   "cell_type": "code",
   "outputs": [],
   "source": [
    "train_set, test_set, train_labels, test_labels = train_test_split(\n",
    "    ds.data[:, 0],  # features\n",
    "    ds.target,  # labels\n",
    "    test_size=0.25,  # split ratio\n",
    "    random_state=1,  # set random seed\n",
    "    stratify=ds.target)  # keep the same ratios "
   ],
   "metadata": {
    "collapsed": false,
    "ExecuteTime": {
     "end_time": "2024-03-12T12:28:35.364547Z",
     "start_time": "2024-03-12T12:28:35.361732Z"
    }
   },
   "id": "1d9752b5155fb3bc",
   "execution_count": 3
  },
  {
   "cell_type": "code",
   "outputs": [
    {
     "name": "stdout",
     "output_type": "stream",
     "text": [
      "(426,)\n"
     ]
    },
    {
     "data": {
      "text/plain": "(426, 1)"
     },
     "execution_count": 11,
     "metadata": {},
     "output_type": "execute_result"
    }
   ],
   "source": [
    "print(train_set.shape)\n",
    "X = train_set.reshape(-1, 1)\n",
    "print(X.shape)"
   ],
   "metadata": {
    "collapsed": false,
    "ExecuteTime": {
     "end_time": "2024-03-12T12:31:20.003594Z",
     "start_time": "2024-03-12T12:31:20.001093Z"
    }
   },
   "id": "adc36832b85a46c9",
   "execution_count": 11
  },
  {
   "cell_type": "code",
   "outputs": [
    {
     "data": {
      "text/plain": "array([[9.97355244e-01, 2.64475584e-03],\n       [5.79904741e-01, 4.20095259e-01],\n       [4.89418889e-01, 5.10581111e-01],\n       [9.98081582e-01, 1.91841833e-03],\n       [3.03482550e-02, 9.69651745e-01],\n       [2.46328009e-02, 9.75367199e-01],\n       [3.44560859e-01, 6.55439141e-01],\n       [7.37983555e-03, 9.92620164e-01],\n       [9.31323702e-01, 6.86762982e-02],\n       [2.67420833e-01, 7.32579167e-01],\n       [7.74629936e-02, 9.22537006e-01],\n       [9.97698701e-01, 2.30129942e-03],\n       [1.40364956e-01, 8.59635044e-01],\n       [1.17525730e-01, 8.82474270e-01],\n       [9.96393662e-01, 3.60633850e-03],\n       [8.71767268e-02, 9.12823273e-01],\n       [5.23677991e-02, 9.47632201e-01],\n       [9.58226369e-01, 4.17736310e-02],\n       [1.45622603e-01, 8.54377397e-01],\n       [9.85914334e-01, 1.40856657e-02],\n       [2.80216752e-01, 7.19783248e-01],\n       [1.58397979e-02, 9.84160202e-01],\n       [9.75394894e-01, 2.46051062e-02],\n       [9.94702889e-01, 5.29711054e-03],\n       [9.97572210e-01, 2.42779010e-03],\n       [2.85104701e-02, 9.71489530e-01],\n       [9.95486620e-01, 4.51337964e-03],\n       [7.47248153e-01, 2.52751847e-01],\n       [8.46335843e-01, 1.53664157e-01],\n       [9.94814739e-01, 5.18526120e-03],\n       [8.71767268e-02, 9.12823273e-01],\n       [6.41027577e-01, 3.58972423e-01],\n       [6.60526591e-01, 3.39473409e-01],\n       [9.97298046e-01, 2.70195373e-03],\n       [5.02764357e-03, 9.94972356e-01],\n       [7.61164989e-01, 2.38835011e-01],\n       [1.37796212e-01, 8.62203788e-01],\n       [1.75941400e-01, 8.24058600e-01],\n       [5.85423385e-02, 9.41457662e-01],\n       [6.67704778e-01, 3.32295222e-01],\n       [3.27806507e-01, 6.72193493e-01],\n       [1.83593365e-02, 9.81640663e-01],\n       [1.51263320e-03, 9.98487367e-01],\n       [2.63238929e-01, 7.36761071e-01],\n       [9.93010862e-01, 6.98913828e-03],\n       [9.91624451e-01, 8.37554948e-03],\n       [1.45622603e-01, 8.54377397e-01],\n       [9.94702889e-01, 5.29711054e-03],\n       [3.23096774e-01, 6.76903226e-01],\n       [2.86753089e-01, 7.13246911e-01],\n       [3.93155248e-02, 9.60684475e-01],\n       [9.78753017e-01, 2.12469833e-02],\n       [7.74629936e-02, 9.22537006e-01],\n       [6.84150119e-01, 3.15849881e-01],\n       [5.91363579e-02, 9.40863642e-01],\n       [3.16366679e-02, 9.68363332e-01],\n       [4.49343555e-02, 9.55065644e-01],\n       [9.38497259e-01, 6.15027408e-02],\n       [7.90100941e-02, 9.20989906e-01],\n       [2.59548085e-02, 9.74045191e-01],\n       [3.42142376e-01, 6.57857624e-01],\n       [2.20739689e-03, 9.97792603e-01],\n       [4.81380781e-01, 5.18619219e-01],\n       [7.08392273e-02, 9.29160773e-01],\n       [3.77265716e-02, 9.62273428e-01],\n       [1.54704074e-03, 9.98452959e-01],\n       [3.09183865e-01, 6.90816135e-01],\n       [8.97718097e-02, 9.10228190e-01],\n       [9.99966313e-01, 3.36872032e-05],\n       [2.73457773e-02, 9.72654223e-01],\n       [9.98276378e-01, 1.72362158e-03],\n       [8.79217946e-01, 1.20782054e-01],\n       [4.36133805e-01, 5.63866195e-01],\n       [4.53969550e-02, 9.54603045e-01],\n       [4.82691597e-02, 9.51730840e-01],\n       [4.22517754e-02, 9.57748225e-01],\n       [9.35327697e-01, 6.46723034e-02],\n       [6.80664992e-02, 9.31933501e-01],\n       [1.74391558e-01, 8.25608442e-01],\n       [9.98060932e-01, 1.93906757e-03],\n       [1.75167150e-03, 9.98248329e-01],\n       [9.47689406e-01, 5.23105943e-02],\n       [3.54583203e-02, 9.64541680e-01],\n       [2.43579233e-03, 9.97564208e-01],\n       [6.18523327e-01, 3.81476673e-01],\n       [5.13133168e-02, 9.48686683e-01],\n       [8.84305783e-03, 9.91156942e-01],\n       [9.99396906e-01, 6.03093853e-04],\n       [4.26990583e-03, 9.95730094e-01],\n       [1.51425419e-03, 9.98485746e-01],\n       [7.51943342e-02, 9.24805666e-01],\n       [1.31546908e-01, 8.68453092e-01],\n       [2.41225765e-02, 9.75877424e-01],\n       [1.85536610e-02, 9.81446339e-01],\n       [6.47421029e-02, 9.35257897e-01],\n       [3.73390767e-02, 9.62660923e-01],\n       [2.24167108e-02, 9.77583289e-01],\n       [1.06848821e-01, 8.93151179e-01],\n       [7.04631665e-01, 2.95368335e-01],\n       [9.71223166e-01, 2.87768344e-02],\n       [4.45151332e-03, 9.95548487e-01],\n       [7.14779930e-03, 9.92852201e-01],\n       [9.73527005e-01, 2.64729946e-02],\n       [9.99903621e-01, 9.63788975e-05],\n       [9.12915008e-01, 8.70849923e-02],\n       [3.65755339e-02, 9.63424466e-01],\n       [9.98257822e-01, 1.74217776e-03],\n       [3.36689836e-02, 9.66331016e-01],\n       [4.04779327e-01, 5.95220673e-01],\n       [5.93801540e-03, 9.94061985e-01],\n       [5.34949363e-01, 4.65050637e-01],\n       [9.60993997e-02, 9.03900600e-01],\n       [4.97691872e-02, 9.50230813e-01],\n       [9.99074047e-01, 9.25953465e-04],\n       [3.97050316e-01, 6.02949684e-01],\n       [1.22049349e-01, 8.77950651e-01],\n       [3.59124178e-03, 9.96408758e-01],\n       [9.88603071e-01, 1.13969294e-02],\n       [2.56849958e-02, 9.74315004e-01],\n       [2.37098966e-01, 7.62901034e-01],\n       [1.68299826e-01, 8.31700174e-01],\n       [2.03958222e-02, 9.79604178e-01],\n       [9.92142427e-01, 7.85757285e-03],\n       [3.59237859e-01, 6.40762141e-01],\n       [1.15318885e-01, 8.84681115e-01],\n       [9.80670538e-01, 1.93294617e-02],\n       [1.02822610e-01, 8.97177390e-01],\n       [8.21893004e-02, 9.17810700e-01],\n       [9.90071798e-01, 9.92820200e-03],\n       [5.90320335e-01, 4.09679665e-01],\n       [1.16544777e-02, 9.88345522e-01],\n       [2.67420833e-01, 7.32579167e-01],\n       [6.67181623e-02, 9.33281838e-01],\n       [9.90880807e-01, 9.11919315e-03],\n       [1.87094251e-01, 8.12905749e-01],\n       [5.58867592e-01, 4.41132408e-01],\n       [1.46962283e-01, 8.53037717e-01],\n       [9.99925495e-01, 7.45048776e-05],\n       [2.02222532e-01, 7.97777468e-01],\n       [1.66803672e-01, 8.33196328e-01],\n       [9.99508052e-01, 4.91948366e-04],\n       [9.86640079e-01, 1.33599206e-02],\n       [1.24196157e-02, 9.87580384e-01]])"
     },
     "execution_count": 13,
     "metadata": {},
     "output_type": "execute_result"
    }
   ],
   "source": [
    "m = linear_model.LogisticRegression()\n",
    "m.fit(X=X, y=train_labels)\n",
    "new_test_set = test_set.reshape(-1, 1)\n",
    "m.predict_proba(new_test_set)"
   ],
   "metadata": {
    "collapsed": false,
    "ExecuteTime": {
     "end_time": "2024-03-12T12:32:51.068914Z",
     "start_time": "2024-03-12T12:32:51.060019Z"
    }
   },
   "id": "ddabb193dd02fca1",
   "execution_count": 13
  },
  {
   "cell_type": "code",
   "outputs": [
    {
     "data": {
      "text/plain": "array([[0.99679376, 0.00320624]])"
     },
     "execution_count": 21,
     "metadata": {},
     "output_type": "execute_result"
    }
   ],
   "source": [
    "m_predict = m.predict(new_test_set)\n",
    "m.predict_proba([[20]])"
   ],
   "metadata": {
    "collapsed": false,
    "ExecuteTime": {
     "end_time": "2024-03-12T12:33:50.489794Z",
     "start_time": "2024-03-12T12:33:50.486691Z"
    }
   },
   "id": "aaa481e18896703c",
   "execution_count": 21
  },
  {
   "cell_type": "code",
   "outputs": [
    {
     "data": {
      "text/plain": "array([[45,  8],\n       [ 7, 83]])"
     },
     "execution_count": 15,
     "metadata": {},
     "output_type": "execute_result"
    }
   ],
   "source": [
    "from sklearn import metrics\n",
    "\n",
    "metrics.confusion_matrix(test_labels, m_predict)"
   ],
   "metadata": {
    "collapsed": false,
    "ExecuteTime": {
     "end_time": "2024-03-12T12:32:51.077097Z",
     "start_time": "2024-03-12T12:32:51.073296Z"
    }
   },
   "id": "c794b4ac55a6dd48",
   "execution_count": 15
  },
  {
   "cell_type": "code",
   "outputs": [
    {
     "data": {
      "text/plain": "0.8951048951048951"
     },
     "execution_count": 16,
     "metadata": {},
     "output_type": "execute_result"
    }
   ],
   "source": [
    "# calculate the accuracy\n",
    "metrics.accuracy_score(test_labels, m_predict)"
   ],
   "metadata": {
    "collapsed": false,
    "ExecuteTime": {
     "end_time": "2024-03-12T12:32:51.081362Z",
     "start_time": "2024-03-12T12:32:51.078518Z"
    }
   },
   "id": "44b04000b835c75f",
   "execution_count": 16
  },
  {
   "cell_type": "code",
   "outputs": [
    {
     "data": {
      "text/plain": "0.9120879120879121"
     },
     "execution_count": 17,
     "metadata": {},
     "output_type": "execute_result"
    }
   ],
   "source": [
    "# calculate the precision\n",
    "metrics.precision_score(test_labels, m_predict)"
   ],
   "metadata": {
    "collapsed": false,
    "ExecuteTime": {
     "end_time": "2024-03-12T12:32:51.086044Z",
     "start_time": "2024-03-12T12:32:51.081976Z"
    }
   },
   "id": "5bfc0a294bb70289",
   "execution_count": 17
  },
  {
   "cell_type": "code",
   "outputs": [
    {
     "data": {
      "text/plain": "0.9222222222222223"
     },
     "execution_count": 18,
     "metadata": {},
     "output_type": "execute_result"
    }
   ],
   "source": [
    "# calculate the recall\n",
    "metrics.recall_score(test_labels, m_predict)"
   ],
   "metadata": {
    "collapsed": false,
    "ExecuteTime": {
     "end_time": "2024-03-12T12:32:51.090841Z",
     "start_time": "2024-03-12T12:32:51.087239Z"
    }
   },
   "id": "2cb8ab2c0b7b6a24",
   "execution_count": 18
  },
  {
   "cell_type": "code",
   "outputs": [
    {
     "data": {
      "text/plain": "0.9171270718232044"
     },
     "execution_count": 19,
     "metadata": {},
     "output_type": "execute_result"
    }
   ],
   "source": [
    "# calculate the F1 score\n",
    "metrics.f1_score(test_labels, m_predict)"
   ],
   "metadata": {
    "collapsed": false,
    "ExecuteTime": {
     "end_time": "2024-03-12T12:32:51.094759Z",
     "start_time": "2024-03-12T12:32:51.091659Z"
    }
   },
   "id": "d994645bd6e8b708",
   "execution_count": 19
  }
 ],
 "metadata": {
  "jupytext": {
   "cell_metadata_filter": "-all",
   "main_language": "python",
   "notebook_metadata_filter": "-all"
  },
  "kernelspec": {
   "name": "python3",
   "language": "python",
   "display_name": "Python 3 (ipykernel)"
  }
 },
 "nbformat": 4,
 "nbformat_minor": 5
}
